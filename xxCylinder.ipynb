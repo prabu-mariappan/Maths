{
 "cells": [
  {
   "cell_type": "code",
   "execution_count": 8,
   "metadata": {},
   "outputs": [
    {
     "name": "stdout",
     "output_type": "stream",
     "text": [
      "Volume of the Cylinder is: 56.52\n",
      "Surface Area of the Cylinder is: 94.2\n"
     ]
    }
   ],
   "source": [
    "'''\n",
    "This program is to find the volume and surface area of Cylinder in Python 2\n",
    "Formula:\n",
    "Volume = πr2h\n",
    "Surface Area = 2πrh+2πr2\n",
    "'''\n",
    "from __future__ import division\n",
    "\n",
    "class Cylinder(object):\n",
    "    # Class object attribute\n",
    "    pi = 3.14\n",
    "    \n",
    "    def __init__(self,radius,height):\n",
    "        self.radius = radius\n",
    "        self.height = height\n",
    "        \n",
    "    def volume(self):\n",
    "        return Cylinder.pi * (self.radius **2) * self.height\n",
    "    \n",
    "    def Surface_Area(self):\n",
    "        return (2 * Cylinder.pi * self.radius * self.height) + ( 2 * Cylinder.pi * self.radius **2)\n",
    "        \n",
    "c = Cylinder(3,2)\n",
    "\n",
    "print \"Volume of the Cylinder is:\", c.volume()\n",
    "print \"Surface Area of the Cylinder is:\", c.Surface_Area()"
   ]
  }
 ],
 "metadata": {
  "kernelspec": {
   "display_name": "Python 2",
   "language": "python",
   "name": "python2"
  },
  "language_info": {
   "codemirror_mode": {
    "name": "ipython",
    "version": 2
   },
   "file_extension": ".py",
   "mimetype": "text/x-python",
   "name": "python",
   "nbconvert_exporter": "python",
   "pygments_lexer": "ipython2",
   "version": "2.7.14"
  }
 },
 "nbformat": 4,
 "nbformat_minor": 2
}
