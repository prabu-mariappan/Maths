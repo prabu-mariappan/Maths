{
 "cells": [
  {
   "cell_type": "code",
   "execution_count": 5,
   "metadata": {},
   "outputs": [
    {
     "name": "stdout",
     "output_type": "stream",
     "text": [
      "The Area of Trapezoid is: 70.0\n",
      "The Perimeter of Trapezoid is: 29\n"
     ]
    }
   ],
   "source": [
    "'''\n",
    "This program is to find the area and perimeter of Trapezoid\n",
    "'''\n",
    "\n",
    "class Trapezoid(object):\n",
    "    def __init__(self,base1,base2,side1,side2,height):\n",
    "        self.base1  = base1\n",
    "        self.base2  = base2\n",
    "        self.side1  = side1\n",
    "        self.side2  = side2\n",
    "        self.height = height\n",
    "        \n",
    "    def Area(self):\n",
    "        return ((self.base1+self.base2) /2)* self.height\n",
    "    \n",
    "    def Perimeter(self):\n",
    "        return self.base1 + self.base2 + self.side1 + self.side2\n",
    "    \n",
    "t = Trapezoid(8,6,7,8,10)\n",
    "\n",
    "print(\"The Area of Trapezoid is:\", t.Area())\n",
    "print(\"The Perimeter of Trapezoid is:\", t.Perimeter())"
   ]
  }
 ],
 "metadata": {
  "kernelspec": {
   "display_name": "Python 3",
   "language": "python",
   "name": "python3"
  },
  "language_info": {
   "codemirror_mode": {
    "name": "ipython",
    "version": 3
   },
   "file_extension": ".py",
   "mimetype": "text/x-python",
   "name": "python",
   "nbconvert_exporter": "python",
   "pygments_lexer": "ipython3",
   "version": "3.6.3"
  }
 },
 "nbformat": 4,
 "nbformat_minor": 2
}
