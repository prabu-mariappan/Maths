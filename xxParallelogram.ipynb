{
 "cells": [
  {
   "cell_type": "code",
   "execution_count": 4,
   "metadata": {},
   "outputs": [
    {
     "name": "stdout",
     "output_type": "stream",
     "text": [
      "Area of Parallelogram is: 20\n",
      "Perimeter of Parallelogram is: 20\n"
     ]
    }
   ],
   "source": [
    "'''\n",
    "This program is to find the Area and Perimeter of Parallelogram\n",
    "\n",
    "Formula:\n",
    "Area = Base X Height\n",
    "Perimeter = add the length of all sides(P= 2a +2b)\n",
    "'''\n",
    "\n",
    "class Parallelogram(object):\n",
    "    def __init__(self,base,height,side):\n",
    "        self.base   = base\n",
    "        self.height = height\n",
    "        self.side   = side\n",
    "    \n",
    "    def Area(self):\n",
    "        return self.base * self.height\n",
    "    def Perimeter(self):\n",
    "        return 2 *(self.side + self.base)\n",
    "    \n",
    "p = Parallelogram(4,5,6)    \n",
    "\n",
    "print(\"Area of Parallelogram is:\",p.Area())\n",
    "print(\"Perimeter of Parallelogram is:\",p.Perimeter())"
   ]
  }
 ],
 "metadata": {
  "kernelspec": {
   "display_name": "Python 3",
   "language": "python",
   "name": "python3"
  },
  "language_info": {
   "codemirror_mode": {
    "name": "ipython",
    "version": 3
   },
   "file_extension": ".py",
   "mimetype": "text/x-python",
   "name": "python",
   "nbconvert_exporter": "python",
   "pygments_lexer": "ipython3",
   "version": "3.6.3"
  }
 },
 "nbformat": 4,
 "nbformat_minor": 2
}
