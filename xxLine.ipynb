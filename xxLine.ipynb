{
 "cells": [
  {
   "cell_type": "code",
   "execution_count": 11,
   "metadata": {},
   "outputs": [
    {
     "name": "stdout",
     "output_type": "stream",
     "text": [
      "Slope is: 0.2\n",
      "Distance is: 5.09901951359\n"
     ]
    }
   ],
   "source": [
    "'''\n",
    "This program is to find the slope and distance of the Line in Python 2\n",
    "The equation used to calculate the slope from two points is:\n",
    "slope = (y2-y1)/(x2-x1)\n",
    "'''\n",
    "from __future__ import division\n",
    "import math\n",
    "class Line(object):\n",
    "    '''\n",
    "    Take the 2 coordinates as a tuple\n",
    "    point1 = (x2,y2)\n",
    "    point2 = (x1,y1)\n",
    "    \n",
    "    '''\n",
    "    \n",
    "    def __init__(self,point1, point2):\n",
    "        self.point1 = point1\n",
    "        self.point2 = point2\n",
    "    '''\n",
    "    self.point1[0] = x2\n",
    "    self.point1[1] = y2\n",
    "    self.point2[0] = x1\n",
    "    self.point2[1] = y1\n",
    "    '''\n",
    "        \n",
    "    def slope(self):\n",
    "        return (self.point1[1] - self.point2[1]) / (self.point1[0] - self.point2[0])\n",
    "    \n",
    "    def distance(self):\n",
    "        return math.sqrt(((self.point1[0] - self.point2[0] ) **2) + ((self.point1[1] - self.point2[1]) **2))\n",
    "        \n",
    "s = Line((15,8), (10,7))\n",
    "print \"Slope is:\", s.slope()\n",
    "print \"Distance is:\", s.distance()\n"
   ]
  }
 ],
 "metadata": {
  "kernelspec": {
   "display_name": "Python 2",
   "language": "python",
   "name": "python2"
  },
  "language_info": {
   "codemirror_mode": {
    "name": "ipython",
    "version": 2
   },
   "file_extension": ".py",
   "mimetype": "text/x-python",
   "name": "python",
   "nbconvert_exporter": "python",
   "pygments_lexer": "ipython2",
   "version": "2.7.14"
  }
 },
 "nbformat": 4,
 "nbformat_minor": 2
}
