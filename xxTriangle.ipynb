{
 "cells": [
  {
   "cell_type": "code",
   "execution_count": 3,
   "metadata": {},
   "outputs": [
    {
     "name": "stdout",
     "output_type": "stream",
     "text": [
      "Area of the Triangle is: 4.5\n",
      "Area of the Triangle is: 9\n"
     ]
    }
   ],
   "source": [
    "'''\n",
    "This program is to find the Area and Perimeter of Triangle\n",
    "'''\n",
    "\n",
    "class Triangle(object): \n",
    "    \n",
    "    def __init__(self,base,side1,side2,height):\n",
    "        self.base   = base\n",
    "        self.side1  = side1\n",
    "        self.side2  = side2\n",
    "        self.height = height\n",
    "        \n",
    "    def Area(self):\n",
    "        return (self.base * self.height ) /2 \n",
    "    \n",
    "    def Perimeter(self):\n",
    "        return self.base + self.side1 + self.side2\n",
    "    \n",
    "t = Triangle(3,3,3,3)\n",
    "\n",
    "print(\"Area of the Triangle is:\", t.Area())\n",
    "\n",
    "print(\"Area of the Triangle is:\", t.Perimeter())\n",
    "        "
   ]
  }
 ],
 "metadata": {
  "kernelspec": {
   "display_name": "Python 3",
   "language": "python",
   "name": "python3"
  },
  "language_info": {
   "codemirror_mode": {
    "name": "ipython",
    "version": 3
   },
   "file_extension": ".py",
   "mimetype": "text/x-python",
   "name": "python",
   "nbconvert_exporter": "python",
   "pygments_lexer": "ipython3",
   "version": "3.6.3"
  }
 },
 "nbformat": 4,
 "nbformat_minor": 2
}
