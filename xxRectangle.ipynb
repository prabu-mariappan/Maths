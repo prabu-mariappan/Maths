{
 "cells": [
  {
   "cell_type": "code",
   "execution_count": 1,
   "metadata": {},
   "outputs": [
    {
     "name": "stdout",
     "output_type": "stream",
     "text": [
      "Area of Rectangle is:  12\n",
      "Perimeter of Rectangle is: 14\n",
      "Diagonal of Rectangle is: 5.0\n"
     ]
    }
   ],
   "source": [
    "'''\n",
    "This program is to calculate the Area and Perimeter of Rectangle \n",
    "Formula:\n",
    "Area = Length * Width\n",
    "Perimeter = 2 * Lengths  + 2 * Widths\n",
    "Diagonal =sqrt[w2+l2]\n",
    "'''\n",
    "from __future__ import division\n",
    "import math\n",
    "class Rectangle(object):\n",
    "    def __init__(self,length,width):\n",
    "        self.length = length\n",
    "        self.width  = width\n",
    "    def Area(self):\n",
    "        return self.length * self.width\n",
    "    \n",
    "    def Perimeter(self):\n",
    "        return 2 * self.length + 2 * self.width\n",
    "    \n",
    "    def Diagonal(self):\n",
    "        return math.sqrt((self.width **2) + (self.length**2) )\n",
    "    \n",
    "r = Rectangle(3,4)    \n",
    "\n",
    "print(\"Area of Rectangle is: \", r.Area())\n",
    "print(\"Perimeter of Rectangle is:\", r.Perimeter())\n",
    "print(\"Diagonal of Rectangle is:\", r.Diagonal())"
   ]
  }
 ],
 "metadata": {
  "kernelspec": {
   "display_name": "Python 3",
   "language": "python",
   "name": "python3"
  },
  "language_info": {
   "codemirror_mode": {
    "name": "ipython",
    "version": 3
   },
   "file_extension": ".py",
   "mimetype": "text/x-python",
   "name": "python",
   "nbconvert_exporter": "python",
   "pygments_lexer": "ipython3",
   "version": "3.6.3"
  }
 },
 "nbformat": 4,
 "nbformat_minor": 2
}
